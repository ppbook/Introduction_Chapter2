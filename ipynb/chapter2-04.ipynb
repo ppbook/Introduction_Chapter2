{
  "nbformat": 4,
  "nbformat_minor": 0,
  "metadata": {
    "accelerator": "GPU",
    "colab": {
      "name": "prog2-4.ipynb",
      "provenance": [],
      "collapsed_sections": [],
      "toc_visible": true
    },
    "kernelspec": {
      "display_name": "Python 3",
      "name": "python3"
    }
  },
  "cells": [
    {
      "cell_type": "markdown",
      "metadata": {
        "id": "CchapG55Mv-v"
      },
      "source": [
        "# 2．Google Colabによる実行環境\n"
      ]
    },
    {
      "cell_type": "markdown",
      "metadata": {
        "id": "Clvg8rNvWljJ"
      },
      "source": [
        "（以下の節番号は，書籍での番号とそろえてあるため，本IPythonNotebook内では値が飛んでいることに注意．）"
      ]
    },
    {
      "cell_type": "markdown",
      "metadata": {
        "id": "SLlN7VDv_b-b"
      },
      "source": [
        "## 2.4 GPUとTPUの利用"
      ]
    },
    {
      "cell_type": "markdown",
      "metadata": {
        "id": "o3ZgrHUE_ebz"
      },
      "source": [
        "### 2.4.2 GPUの利用"
      ]
    },
    {
      "cell_type": "markdown",
      "metadata": {
        "id": "M1TYTtLk_qRZ"
      },
      "source": [
        "[編集] > [ノートブックの設定] もしくは [ランタイム] > [ランタイムのタイプを変更] を選択し，「ハードウェアアクセラレータ」を GPU とすることで，GPUを利用することができる．\n",
        "\n",
        "その後，GPUが動作しているか確認．"
      ]
    },
    {
      "cell_type": "code",
      "metadata": {
        "colab": {
          "base_uri": "https://localhost:8080/"
        },
        "id": "qBVrp6v9_pja",
        "outputId": "7d3d2b2f-c630-4b79-fd1f-8a33ac58438f"
      },
      "source": [
        "!nvidia-smi"
      ],
      "execution_count": null,
      "outputs": [
        {
          "output_type": "stream",
          "text": [
            "Sat Feb 27 07:21:18 2021       \n",
            "+-----------------------------------------------------------------------------+\n",
            "| NVIDIA-SMI 460.39       Driver Version: 460.32.03    CUDA Version: 11.2     |\n",
            "|-------------------------------+----------------------+----------------------+\n",
            "| GPU  Name        Persistence-M| Bus-Id        Disp.A | Volatile Uncorr. ECC |\n",
            "| Fan  Temp  Perf  Pwr:Usage/Cap|         Memory-Usage | GPU-Util  Compute M. |\n",
            "|                               |                      |               MIG M. |\n",
            "|===============================+======================+======================|\n",
            "|   0  Tesla P100-PCIE...  Off  | 00000000:00:04.0 Off |                    0 |\n",
            "| N/A   35C    P0    25W / 250W |      0MiB / 16280MiB |      0%      Default |\n",
            "|                               |                      |                  N/A |\n",
            "+-------------------------------+----------------------+----------------------+\n",
            "                                                                               \n",
            "+-----------------------------------------------------------------------------+\n",
            "| Processes:                                                                  |\n",
            "|  GPU   GI   CI        PID   Type   Process name                  GPU Memory |\n",
            "|        ID   ID                                                   Usage      |\n",
            "|=============================================================================|\n",
            "|  No running processes found                                                 |\n",
            "+-----------------------------------------------------------------------------+\n"
          ],
          "name": "stdout"
        }
      ]
    },
    {
      "cell_type": "markdown",
      "metadata": {
        "id": "y8XfO8rt3tIC"
      },
      "source": [
        "### 2.4.3 TPUの利用"
      ]
    },
    {
      "cell_type": "markdown",
      "metadata": {
        "id": "DT-JMtem30aT"
      },
      "source": [
        "編集 > ノートブックの設定 もしくは ランタイム > ランタイムのタイプを変更 を選択し，「ハードウェアアクセラレータ」を TPU とすることで，GPUを利用することができる．\n",
        "\n",
        "その後，tensorflowを用いてTPUとの接続を行う．"
      ]
    },
    {
      "cell_type": "code",
      "metadata": {
        "id": "xVjZf9Kk32JC"
      },
      "source": [
        "# TPUとの接続（TensorFlow）とTensorFlowのバージョン確認\n",
        "%tensorflow_version 2.x\n",
        "import tensorflow as tf\n",
        "print(\"Tensorflow version \" + tf.__version__)\n",
        "\n",
        "# TPU関連のエラー出力抑制\n",
        "import logging\n",
        "tf.get_logger().setLevel(logging.ERROR) \n",
        "\n",
        "try:\n",
        "  # TPU検出\n",
        "  tpu = tf.distribute.cluster_resolver.TPUClusterResolver()\n",
        "  print('TPU起動 ', tpu.cluster_spec().as_dict()['worker'])\n",
        "\n",
        "except ValueError:\n",
        "  raise BaseException('ERROR: TPU接続エラー')\n",
        "\n",
        "# TPU設定\n",
        "tf.config.experimental_connect_to_cluster(tpu)\n",
        "tf.tpu.experimental.initialize_tpu_system(tpu)\n",
        "tpu_strategy = tf.distribute.TPUStrategy(tpu)"
      ],
      "execution_count": null,
      "outputs": []
    }
  ]
}