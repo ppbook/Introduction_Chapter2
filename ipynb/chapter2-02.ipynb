{
  "nbformat": 4,
  "nbformat_minor": 0,
  "metadata": {
    "accelerator": "GPU",
    "colab": {
      "name": "prog2-2.ipynb",
      "provenance": [],
      "collapsed_sections": [],
      "toc_visible": true
    },
    "kernelspec": {
      "display_name": "Python 3",
      "name": "python3"
    }
  },
  "cells": [
    {
      "cell_type": "markdown",
      "metadata": {
        "id": "CchapG55Mv-v"
      },
      "source": [
        "# 2．Google Colabによる実行環境\n"
      ]
    },
    {
      "cell_type": "markdown",
      "metadata": {
        "id": "Clvg8rNvWljJ"
      },
      "source": [
        "（以下の節番号は，書籍での番号とそろえてあるため，本IPythonNotebook内では値が飛んでいることに注意．）"
      ]
    },
    {
      "cell_type": "markdown",
      "metadata": {
        "id": "44mvFB8-yMW-"
      },
      "source": [
        "## 2.2 Google Colab の使い方"
      ]
    },
    {
      "cell_type": "markdown",
      "metadata": {
        "id": "6vE2CVp7ghka"
      },
      "source": [
        "### 2.2.4 Markdown\n"
      ]
    },
    {
      "cell_type": "markdown",
      "metadata": {
        "id": "K4iJIfeosuoi"
      },
      "source": [
        "Markdownは，シンプルなマークアップ言語である．以下のようなマークアップを行うことが可能である．"
      ]
    },
    {
      "cell_type": "markdown",
      "metadata": {
        "id": "tb9uTeFEg0zv"
      },
      "source": [
        "注意：ヘッダ指定（#レベル１など）は，このipynbの構成に影響を与えるので，実行は省く．\n",
        "以下の例では，実際にMarkdown記法で入力された結果が表示されている．セルをダブルクリックすることで，実際のMarkdown記法が確認できる．"
      ]
    },
    {
      "cell_type": "markdown",
      "metadata": {
        "id": "vi9eRtWxhlU5"
      },
      "source": [
        "**ボールド**\n",
        "\n",
        "＊イタリック* or _イタリック_\n",
        "\n",
        "~~打ち消し線~~\n",
        "\n",
        "`１行コード`\n",
        "\n",
        "> インデント１段\n",
        ">>> インデント３段\n",
        "\n",
        "* リスト１\n",
        "* リスト１\n",
        "\n",
        "\n",
        "- リスト２\n",
        "- リスト２\n",
        "\n",
        "[テキスト](URL)\n",
        "\n",
        "![代替テキスト](画像URL).  \n",
        "↑画像が無いので，代替テキストが表示されている\n",
        "\n",
        "$y = 0.1 x$\n",
        "\n",
        "---\n",
        "\n",
        "___\n",
        "\n",
        "***\n",
        "\n",
        "\n",
        "第１列の名前 | 第２列の名前\n",
        "--- | ---\n",
        "１行，１列 | １行，２列\n",
        "２行，１列 | ２行，２列\n"
      ]
    },
    {
      "cell_type": "markdown",
      "metadata": {
        "id": "xIMTHHEFSExK"
      },
      "source": [
        "### 2.2.5 コマンド実行\n"
      ]
    },
    {
      "cell_type": "markdown",
      "metadata": {
        "id": "ND7pgcmsxytc"
      },
      "source": [
        "コマンドを実行するときには，半角感嘆符`!`を使用する．"
      ]
    },
    {
      "cell_type": "code",
      "metadata": {
        "colab": {
          "base_uri": "https://localhost:8080/"
        },
        "id": "6EIL-sADTDzd",
        "outputId": "f98f51bc-6b58-46c6-d014-7e4c9d80c17d"
      },
      "source": [
        "!python -V"
      ],
      "execution_count": null,
      "outputs": [
        {
          "output_type": "stream",
          "text": [
            "Python 3.7.10\n"
          ],
          "name": "stdout"
        }
      ]
    },
    {
      "cell_type": "markdown",
      "metadata": {
        "id": "MNCdrkxwtso-"
      },
      "source": [
        "### 2.2.6 仮想環境のスペック確認"
      ]
    },
    {
      "cell_type": "markdown",
      "metadata": {
        "id": "Qi0s_zRmuiiZ"
      },
      "source": [
        "#### CPU"
      ]
    },
    {
      "cell_type": "code",
      "metadata": {
        "colab": {
          "base_uri": "https://localhost:8080/"
        },
        "id": "TDP_f5_BukX_",
        "outputId": "5f46c123-4eaa-440a-c6a0-6e58ae4d8aa8"
      },
      "source": [
        "!cat /proc/cpuinfo"
      ],
      "execution_count": null,
      "outputs": [
        {
          "output_type": "stream",
          "text": [
            "processor\t: 0\n",
            "vendor_id\t: GenuineIntel\n",
            "cpu family\t: 6\n",
            "model\t\t: 79\n",
            "model name\t: Intel(R) Xeon(R) CPU @ 2.20GHz\n",
            "stepping\t: 0\n",
            "microcode\t: 0x1\n",
            "cpu MHz\t\t: 2200.000\n",
            "cache size\t: 56320 KB\n",
            "physical id\t: 0\n",
            "siblings\t: 2\n",
            "core id\t\t: 0\n",
            "cpu cores\t: 1\n",
            "apicid\t\t: 0\n",
            "initial apicid\t: 0\n",
            "fpu\t\t: yes\n",
            "fpu_exception\t: yes\n",
            "cpuid level\t: 13\n",
            "wp\t\t: yes\n",
            "flags\t\t: fpu vme de pse tsc msr pae mce cx8 apic sep mtrr pge mca cmov pat pse36 clflush mmx fxsr sse sse2 ss ht syscall nx pdpe1gb rdtscp lm constant_tsc rep_good nopl xtopology nonstop_tsc cpuid tsc_known_freq pni pclmulqdq ssse3 fma cx16 pcid sse4_1 sse4_2 x2apic movbe popcnt aes xsave avx f16c rdrand hypervisor lahf_lm abm 3dnowprefetch invpcid_single ssbd ibrs ibpb stibp fsgsbase tsc_adjust bmi1 hle avx2 smep bmi2 erms invpcid rtm rdseed adx smap xsaveopt arat md_clear arch_capabilities\n",
            "bugs\t\t: cpu_meltdown spectre_v1 spectre_v2 spec_store_bypass l1tf mds swapgs taa\n",
            "bogomips\t: 4400.00\n",
            "clflush size\t: 64\n",
            "cache_alignment\t: 64\n",
            "address sizes\t: 46 bits physical, 48 bits virtual\n",
            "power management:\n",
            "\n",
            "processor\t: 1\n",
            "vendor_id\t: GenuineIntel\n",
            "cpu family\t: 6\n",
            "model\t\t: 79\n",
            "model name\t: Intel(R) Xeon(R) CPU @ 2.20GHz\n",
            "stepping\t: 0\n",
            "microcode\t: 0x1\n",
            "cpu MHz\t\t: 2200.000\n",
            "cache size\t: 56320 KB\n",
            "physical id\t: 0\n",
            "siblings\t: 2\n",
            "core id\t\t: 0\n",
            "cpu cores\t: 1\n",
            "apicid\t\t: 1\n",
            "initial apicid\t: 1\n",
            "fpu\t\t: yes\n",
            "fpu_exception\t: yes\n",
            "cpuid level\t: 13\n",
            "wp\t\t: yes\n",
            "flags\t\t: fpu vme de pse tsc msr pae mce cx8 apic sep mtrr pge mca cmov pat pse36 clflush mmx fxsr sse sse2 ss ht syscall nx pdpe1gb rdtscp lm constant_tsc rep_good nopl xtopology nonstop_tsc cpuid tsc_known_freq pni pclmulqdq ssse3 fma cx16 pcid sse4_1 sse4_2 x2apic movbe popcnt aes xsave avx f16c rdrand hypervisor lahf_lm abm 3dnowprefetch invpcid_single ssbd ibrs ibpb stibp fsgsbase tsc_adjust bmi1 hle avx2 smep bmi2 erms invpcid rtm rdseed adx smap xsaveopt arat md_clear arch_capabilities\n",
            "bugs\t\t: cpu_meltdown spectre_v1 spectre_v2 spec_store_bypass l1tf mds swapgs taa\n",
            "bogomips\t: 4400.00\n",
            "clflush size\t: 64\n",
            "cache_alignment\t: 64\n",
            "address sizes\t: 46 bits physical, 48 bits virtual\n",
            "power management:\n",
            "\n"
          ],
          "name": "stdout"
        }
      ]
    },
    {
      "cell_type": "markdown",
      "metadata": {
        "id": "YtzAn5ubuznO"
      },
      "source": [
        "#### ストレージ"
      ]
    },
    {
      "cell_type": "code",
      "metadata": {
        "colab": {
          "base_uri": "https://localhost:8080/"
        },
        "id": "PulqMF2ju3xJ",
        "outputId": "8a4df890-7986-4a3c-d156-4dbf1f010e22"
      },
      "source": [
        "# strage\n",
        "!df -h"
      ],
      "execution_count": null,
      "outputs": [
        {
          "output_type": "stream",
          "text": [
            "Filesystem      Size  Used Avail Use% Mounted on\n",
            "overlay          69G   31G   38G  45% /\n",
            "tmpfs            64M     0   64M   0% /dev\n",
            "tmpfs           6.4G     0  6.4G   0% /sys/fs/cgroup\n",
            "shm             5.8G     0  5.8G   0% /dev/shm\n",
            "/dev/sda1        75G   32G   43G  43% /opt/bin\n",
            "tmpfs           6.4G   24K  6.4G   1% /var/colab\n",
            "tmpfs           6.4G     0  6.4G   0% /proc/acpi\n",
            "tmpfs           6.4G     0  6.4G   0% /proc/scsi\n",
            "tmpfs           6.4G     0  6.4G   0% /sys/firmware\n"
          ],
          "name": "stdout"
        }
      ]
    },
    {
      "cell_type": "markdown",
      "metadata": {
        "id": "kz0wPmVIvLfO"
      },
      "source": [
        "#### RAM"
      ]
    },
    {
      "cell_type": "code",
      "metadata": {
        "colab": {
          "base_uri": "https://localhost:8080/"
        },
        "id": "FTe2EViTvOZp",
        "outputId": "98c5ace2-4196-403d-b2ac-3b4dae55c6b0"
      },
      "source": [
        "!free -h"
      ],
      "execution_count": null,
      "outputs": [
        {
          "output_type": "stream",
          "text": [
            "              total        used        free      shared  buff/cache   available\n",
            "Mem:            12G        554M         10G        1.0M        2.0G         11G\n",
            "Swap:            0B          0B          0B\n"
          ],
          "name": "stdout"
        }
      ]
    },
    {
      "cell_type": "markdown",
      "metadata": {
        "id": "AqfBt44gvXVM"
      },
      "source": [
        "#### GPU"
      ]
    },
    {
      "cell_type": "markdown",
      "metadata": {
        "id": "keHAuzUb29oM"
      },
      "source": [
        "編集 > ノートブックの設定 もしくは ランタイム > ランタイムのタイプを変更 を選択し，「ハードウェアアクセラレータ」を GPU とすることで，GPUを利用することができる．"
      ]
    },
    {
      "cell_type": "code",
      "metadata": {
        "colab": {
          "base_uri": "https://localhost:8080/"
        },
        "id": "JvxPWegIvZn-",
        "outputId": "98af2ff6-ce14-4eef-b1c3-208735af6ec9"
      },
      "source": [
        "!nvidia-smi"
      ],
      "execution_count": null,
      "outputs": [
        {
          "output_type": "stream",
          "text": [
            "Sat Feb 27 07:13:11 2021       \n",
            "+-----------------------------------------------------------------------------+\n",
            "| NVIDIA-SMI 460.39       Driver Version: 460.32.03    CUDA Version: 11.2     |\n",
            "|-------------------------------+----------------------+----------------------+\n",
            "| GPU  Name        Persistence-M| Bus-Id        Disp.A | Volatile Uncorr. ECC |\n",
            "| Fan  Temp  Perf  Pwr:Usage/Cap|         Memory-Usage | GPU-Util  Compute M. |\n",
            "|                               |                      |               MIG M. |\n",
            "|===============================+======================+======================|\n",
            "|   0  Tesla P100-PCIE...  Off  | 00000000:00:04.0 Off |                    0 |\n",
            "| N/A   35C    P0    25W / 250W |      0MiB / 16280MiB |      0%      Default |\n",
            "|                               |                      |                  N/A |\n",
            "+-------------------------------+----------------------+----------------------+\n",
            "                                                                               \n",
            "+-----------------------------------------------------------------------------+\n",
            "| Processes:                                                                  |\n",
            "|  GPU   GI   CI        PID   Type   Process name                  GPU Memory |\n",
            "|        ID   ID                                                   Usage      |\n",
            "|=============================================================================|\n",
            "|  No running processes found                                                 |\n",
            "+-----------------------------------------------------------------------------+\n"
          ],
          "name": "stdout"
        }
      ]
    },
    {
      "cell_type": "markdown",
      "metadata": {
        "id": "TDJdS5Zyt7ts"
      },
      "source": [
        "#### OS"
      ]
    },
    {
      "cell_type": "code",
      "metadata": {
        "colab": {
          "base_uri": "https://localhost:8080/"
        },
        "id": "M-VoPASity_D",
        "outputId": "6cc46687-c6c1-466b-ed6e-f51fd4241330"
      },
      "source": [
        "!cat /etc/issue"
      ],
      "execution_count": null,
      "outputs": [
        {
          "output_type": "stream",
          "text": [
            "Ubuntu 18.04.5 LTS \\n \\l\n",
            "\n"
          ],
          "name": "stdout"
        }
      ]
    },
    {
      "cell_type": "markdown",
      "metadata": {
        "id": "0sk_2tJXYlcp"
      },
      "source": [
        "### 2.2.7 フォーム"
      ]
    },
    {
      "cell_type": "code",
      "metadata": {
        "colab": {
          "base_uri": "https://localhost:8080/"
        },
        "id": "wHR2X01FYu20",
        "outputId": "87aa7147-438b-4cfb-e0d5-ef8740249ca2"
      },
      "source": [
        "#@title フォームのタイトル\n",
        "\n",
        "text = '初期表示テキスト' #@param {type:\"string\"}\n",
        "dropdown = '１' #@param [\"１\", \"２\", \"３\"]\n",
        "opt = '書換可' #@param [\"１\", \"２\", \"３\"] {allow-input: true}\n",
        "\n",
        "print(text)\n",
        "print(dropdown)\n",
        "print(opt)"
      ],
      "execution_count": null,
      "outputs": [
        {
          "output_type": "stream",
          "text": [
            "初期表示テキスト\n",
            "１\n",
            "書換可\n"
          ],
          "name": "stdout"
        }
      ]
    }
  ]
}